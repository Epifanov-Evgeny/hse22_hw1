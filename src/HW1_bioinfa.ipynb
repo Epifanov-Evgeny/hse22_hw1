{
  "nbformat": 4,
  "nbformat_minor": 0,
  "metadata": {
    "colab": {
      "provenance": []
    },
    "kernelspec": {
      "name": "python3",
      "display_name": "Python 3"
    },
    "language_info": {
      "name": "python"
    }
  },
  "cells": [
    {
      "cell_type": "code",
      "execution_count": 1,
      "metadata": {
        "id": "nPe2sogrRujB"
      },
      "outputs": [],
      "source": [
        "def analysis(contig, scaffold):\n",
        "    for i, name in zip([contig, scaffold], ['контиг', 'скаффолд']):\n",
        "        with open(i, \"r\") as f:\n",
        "            length = 0\n",
        "            count = 0\n",
        "            all_ = []\n",
        "            for i in f.readlines():\n",
        "                if i[0] == '>':\n",
        "                    count += 1\n",
        "                    index_len = i.find('len') + 3\n",
        "                    length += int(i[index_len : i.find('_', index_len)])\n",
        "                    all_.append(int(i[index_len : i.find('_', index_len)]))\n",
        "            all_.sort(reverse = True)\n",
        "            print(f\"Общее количество {name}ов: {count}\\nОбщая длина {name}ов: {length}\\nДлина самого длинного {name}а: {all_[0]}\")\n",
        "            s = 0\n",
        "            for i in all_:\n",
        "                s += i\n",
        "                if (s >= (length/2)):\n",
        "                    print(\"N50:\", i, '\\n')\n",
        "                    break"
      ]
    },
    {
      "cell_type": "code",
      "source": [
        "def calculate_gaps_in_scaffold(longest_scaffold):\n",
        "    with open(longest_scaffold, \"r\") as f:\n",
        "        gap_num = 0\n",
        "        gap_full = 0\n",
        "        scaffold_lines = str(f.readlines())\n",
        "        for j in scaffold_lines:\n",
        "            gap_full += j.count(\"N\")\n",
        "        for i in range(1, len(scaffold_lines)):\n",
        "            if scaffold_lines[i] == \"N\" and scaffold_lines[i-1] != \"N\":\n",
        "                gap_num += 1\n",
        "        print(f\"Количество гэпов = {gap_num}\\nОбщая длина гэпов = {gap_full}\")"
      ],
      "metadata": {
        "id": "623toRbUC9cS"
      },
      "execution_count": 2,
      "outputs": []
    },
    {
      "cell_type": "code",
      "source": [
        "analysis('Poil_contig.fa', 'Poil_scaffold.fa')"
      ],
      "metadata": {
        "id": "F1yU1gH5DAQW",
        "colab": {
          "base_uri": "https://localhost:8080/"
        },
        "outputId": "ef33eff4-523f-44a5-8dab-d8d9f424d897"
      },
      "execution_count": 4,
      "outputs": [
        {
          "output_type": "stream",
          "name": "stdout",
          "text": [
            "Общее количество контигов: 621\n",
            "Общая длина контигов: 3926170\n",
            "Длина самого длинного контига: 179304\n",
            "N50: 47993 \n",
            "\n",
            "Общее количество скаффолдов: 70\n",
            "Общая длина скаффолдов: 3875867\n",
            "Длина самого длинного скаффолда: 3837849\n",
            "N50: 3837849 \n",
            "\n"
          ]
        }
      ]
    },
    {
      "cell_type": "code",
      "source": [
        "calculate_gaps_in_scaffold('longest_scaffold.fna')"
      ],
      "metadata": {
        "id": "uzYktAOxDB0c",
        "colab": {
          "base_uri": "https://localhost:8080/"
        },
        "outputId": "506b51d9-683e-4e73-f20e-d04b2abad454"
      },
      "execution_count": 6,
      "outputs": [
        {
          "output_type": "stream",
          "name": "stdout",
          "text": [
            "Количество гэпов = 64\n",
            "Общая длина гэпов = 6454\n"
          ]
        }
      ]
    },
    {
      "cell_type": "code",
      "source": [
        "calculate_gaps_in_scaffold('longest_scaffold_gapclosed.fna')"
      ],
      "metadata": {
        "id": "l4_tJ4kLDD9V",
        "colab": {
          "base_uri": "https://localhost:8080/"
        },
        "outputId": "13c1a244-bbd6-42e5-f03d-09d1745afe9a"
      },
      "execution_count": 7,
      "outputs": [
        {
          "output_type": "stream",
          "name": "stdout",
          "text": [
            "Количество гэпов = 9\n",
            "Общая длина гэпов = 1416\n"
          ]
        }
      ]
    },
    {
      "cell_type": "code",
      "source": [
        "analysis('Poil_contig.fa', 'Poil_scaffold.fa')"
      ],
      "metadata": {
        "id": "OYdbvqmXDFWj",
        "colab": {
          "base_uri": "https://localhost:8080/"
        },
        "outputId": "87607ba9-0193-4974-89a2-b836a9120753"
      },
      "execution_count": 5,
      "outputs": [
        {
          "output_type": "stream",
          "name": "stdout",
          "text": [
            "Общее количество контигов: 621\n",
            "Общая длина контигов: 3926170\n",
            "Длина самого длинного контига: 179304\n",
            "N50: 47993 \n",
            "\n",
            "Общее количество скаффолдов: 70\n",
            "Общая длина скаффолдов: 3875867\n",
            "Длина самого длинного скаффолда: 3837849\n",
            "N50: 3837849 \n",
            "\n"
          ]
        }
      ]
    },
    {
      "cell_type": "code",
      "source": [
        "calculate_gaps_in_scaffold('longest_scaffold.fna')"
      ],
      "metadata": {
        "id": "8iZZcRntDGyQ",
        "colab": {
          "base_uri": "https://localhost:8080/"
        },
        "outputId": "29bbfbf2-bb51-4a8e-fc86-91e77d6b6523"
      },
      "execution_count": 8,
      "outputs": [
        {
          "output_type": "stream",
          "name": "stdout",
          "text": [
            "Количество гэпов = 64\n",
            "Общая длина гэпов = 6454\n"
          ]
        }
      ]
    },
    {
      "cell_type": "code",
      "source": [
        "calculate_gaps_in_scaffold('longest_scaffold_gapclosed.fna')"
      ],
      "metadata": {
        "id": "eFd3pheVDIH4",
        "colab": {
          "base_uri": "https://localhost:8080/"
        },
        "outputId": "cfc094e5-d10d-4ec3-b0dd-83dcda59e379"
      },
      "execution_count": 9,
      "outputs": [
        {
          "output_type": "stream",
          "name": "stdout",
          "text": [
            "Количество гэпов = 9\n",
            "Общая длина гэпов = 1416\n"
          ]
        }
      ]
    }
  ]
}